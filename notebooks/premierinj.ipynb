{
 "cells": [
  {
   "cell_type": "markdown",
   "id": "cf94c437-8e5d-42c0-991b-515f219feb0e",
   "metadata": {},
   "source": [
    "### Install requirements"
   ]
  },
  {
   "cell_type": "code",
   "execution_count": 1,
   "id": "fd995ecc-dddc-4777-ad55-1d417ad55527",
   "metadata": {
    "tags": []
   },
   "outputs": [
    {
     "name": "stderr",
     "output_type": "stream",
     "text": [
      "ERROR: Could not open requirements file: [Errno 2] No such file or directory: 'requirements.txt'\n",
      "\n",
      "[notice] A new release of pip available: 22.3.1 -> 23.0\n",
      "[notice] To update, run: python.exe -m pip install --upgrade pip\n"
     ]
    }
   ],
   "source": [
    "import sys\n",
    "!{sys.executable} -m pip install -r requirements.txt -U"
   ]
  },
  {
   "cell_type": "markdown",
   "id": "1898b8b4-b774-46e4-bf47-a5662d621938",
   "metadata": {
    "tags": []
   },
   "source": [
    "### Get HTML content"
   ]
  },
  {
   "cell_type": "code",
   "execution_count": 2,
   "id": "f36bc5b5-9655-41b4-a2ef-87eb51227c25",
   "metadata": {
    "tags": []
   },
   "outputs": [],
   "source": [
    "import requests"
   ]
  },
  {
   "cell_type": "code",
   "execution_count": 3,
   "id": "ed343b09-df60-4c81-a2b5-7f9b0505e979",
   "metadata": {
    "tags": []
   },
   "outputs": [],
   "source": [
    "response = requests.get('https://www.premierinjuries.com/injury-table.php')"
   ]
  },
  {
   "cell_type": "code",
   "execution_count": 4,
   "id": "a5535a33-d1d1-4016-a9cb-0e1e70caa748",
   "metadata": {
    "tags": []
   },
   "outputs": [
    {
     "data": {
      "text/plain": [
       "200"
      ]
     },
     "execution_count": 4,
     "metadata": {},
     "output_type": "execute_result"
    }
   ],
   "source": [
    "response.status_code"
   ]
  },
  {
   "cell_type": "markdown",
   "id": "1f45f2fe-6ce8-4458-b2ea-00d3ad8685a1",
   "metadata": {
    "tags": []
   },
   "source": [
    "### Start parsing"
   ]
  },
  {
   "cell_type": "code",
   "execution_count": 5,
   "id": "07d6ce62-3fbf-419d-8c74-93d2bcec9bd3",
   "metadata": {
    "tags": []
   },
   "outputs": [],
   "source": [
    "from bs4 import BeautifulSoup\n",
    "soup = BeautifulSoup(response.content)"
   ]
  },
  {
   "cell_type": "code",
   "execution_count": 47,
   "id": "b4265e65-6323-451a-8d5b-93c3854a2e9b",
   "metadata": {
    "tags": []
   },
   "outputs": [],
   "source": [
    "from dataclasses import dataclass\n",
    "\n",
    "@dataclass\n",
    "class Player:\n",
    "    name: str\n",
    "    reason: str\n",
    "    \n",
    "@dataclass\n",
    "class Team:\n",
    "    name: str\n",
    "    inj_count: int\n",
    "    team_id: str\n",
    "    players: list[Player]"
   ]
  },
  {
   "cell_type": "code",
   "execution_count": 65,
   "id": "064e6cfd-d212-44eb-a211-c5a282d0c37e",
   "metadata": {
    "tags": []
   },
   "outputs": [
    {
     "name": "stdout",
     "output_type": "stream",
     "text": [
      "AFC Bournemouth - 8\n",
      "David Brooks - Thigh Injury\n",
      "Marcus Tavernier - Thigh Injury\n",
      "Dominic Solanke - Knee Injury\n",
      "Lewis Cook - Knee Injury\n",
      "Lloyd Kelly - Other\n",
      "Jack Stephens - Other\n",
      "Ryan Fredericks  - Other\n",
      "Junior Stanislas - Other\n",
      "--------------------\n",
      "Arsenal - 4\n",
      "Gabriel Fernando de Jesus - Knee Injury\n",
      "Reiss Nelson - Thigh Injury\n",
      "Emile Smith Rowe - Thigh Injury\n",
      "Mohamed Elneny - Knee Injury\n",
      "--------------------\n",
      "Aston Villa - 3\n",
      "Diego Carlos Santos Silva - Calf/Shin/Heel Injury\n",
      "Bertrand Isidore Traore - Knee Injury\n",
      "Jed Steer  - Calf/Shin/Heel Injury\n",
      "--------------------\n",
      "Brentford - 3\n",
      "Pontus Jansson - Thigh Injury\n",
      "Shandon Baptiste - Groin/Hip/Pelvic Injury\n",
      "Frank Onyeka - Thigh Injury\n",
      "--------------------\n",
      "Brighton & Hove Albion - 6\n",
      "Jakub Moder - Knee Injury\n",
      "Levi Colwill - Other\n",
      "Alexis Mac Allister - Suspended\n",
      "Adam Lallana  - Other\n",
      "Evan Ferguson - Knee Injury\n",
      "Enock Mwepu - Chest/Abdominal Injury\n",
      "--------------------\n",
      "Chelsea - 8\n",
      "Armando Broja - Knee Injury\n",
      "Christian Pulisic - Knee Injury\n",
      "N'Golo Kante - Thigh Injury\n",
      "Wesley Fofana - Knee Injury\n",
      "Mateo Kovacic - Calf/Shin/Heel Injury\n",
      "Joao Felix Sequeira - Suspended\n",
      "Denis Zakaria - Thigh Injury\n",
      "Edouard Mendy - Wrist/Hand Injury\n",
      "--------------------\n",
      "Crystal Palace - 4\n",
      "Wilfried Zaha  - Thigh Injury\n",
      "Joachim Andersen - Calf/Shin/Heel Injury\n",
      "James McArthur - Groin/Hip/Pelvic Injury\n",
      "Nathan Ferguson - Other\n",
      "--------------------\n",
      "Everton - 4\n",
      "James Garner - Lower Back Injury\n",
      "Andros Townsend  - Knee Injury\n",
      "Nathan Patterson - Knee Injury\n",
      "Michael Keane  - Knee Injury\n",
      "--------------------\n",
      "Fulham - 1\n",
      "Neeskens Kebano - Calf/Shin/Heel Injury\n",
      "--------------------\n",
      "Leeds United - 9\n",
      "Rodrigo Moreno Machado - Ankle/Foot Injury\n",
      "Archie Gray - Ankle/Foot Injury\n",
      "Adam Forshaw - Groin/Hip/Pelvic Injury\n",
      "Sonny Perkins - Ankle/Foot Injury\n",
      "Crysencio Summerville - Ankle/Foot Injury\n",
      "Robin Koch - Suspended\n",
      "Liam Cooper - Knee Injury\n",
      "Tyler Adams - Other\n",
      "Stuart Dallas - Thigh Injury\n",
      "--------------------\n",
      "Leicester City - 6\n",
      "James Justin - Calf/Shin/Heel Injury\n",
      "Wilfred Ndidi - Other\n",
      "Jonny Evans  - Calf/Shin/Heel Injury\n",
      "Ricardo Barbosa Pereira - Calf/Shin/Heel Injury\n",
      "Boubakary Soumare - Thigh Injury\n",
      "Ryan Bertrand  - Knee Injury\n",
      "--------------------\n",
      "Liverpool - 7\n",
      "Luis Fernando Diaz - Knee Injury\n",
      "Arthur Ramos de Oliveira Melo - Thigh Injury\n",
      "Ibrahima Konate - Thigh Injury\n",
      "Diogo Jota - Calf/Shin/Heel Injury\n",
      "Roberto Firmino - Calf/Shin/Heel Injury\n",
      "Virgil van Dijk - Thigh Injury\n",
      "Fabio Tavares - Illness\n",
      "--------------------\n",
      "Manchester City - 2\n",
      "John Stones  - Thigh Injury\n",
      "Philip Foden - Ankle/Foot Injury\n",
      "--------------------\n",
      "Manchester United - 7\n",
      "Donny van de Beek - Knee Injury\n",
      "Christian Eriksen  - Ankle/Foot Injury\n",
      "Carlos Casemiro - Suspended\n",
      "Scott McTominay - Other\n",
      "Jack Butland  - Other\n",
      "Anthony Martial - Other\n",
      "Mason Greenwood - Other\n",
      "--------------------\n",
      "Newcastle United - 5\n",
      "Javier Manquillo - Other\n",
      "Bruno Guimaraes - Suspended\n",
      "Alexander Isak - Head/Face Injury\n",
      "Matt Targett - Ankle/Foot Injury\n",
      "Emil Krafth - Knee Injury\n",
      "--------------------\n",
      "Nottingham Forest - 11\n",
      "Moussa Niakhate - Thigh Injury\n",
      "Taiwo Awoniyi - Groin/Hip/Pelvic Injury\n",
      "Ryan Yates - Illness\n",
      "Dean Henderson - Thigh Injury\n",
      "Jack Colback  - Illness\n",
      "Chris Wood  - Illness\n",
      "Jesse Lingard  - Calf/Shin/Heel Injury\n",
      "Giulian Biancone - Knee Injury\n",
      "Omar Richards - Calf/Shin/Heel Injury\n",
      "Cheikhou Kouyate - Thigh Injury\n",
      "Morgan Gibbs-White - Ankle/Foot Injury\n",
      "--------------------\n",
      "Southampton - 4\n",
      "Juan Larios - Groin/Hip/Pelvic Injury\n",
      "Kyle Walker-Peters - Thigh Injury\n",
      "Alex McCarthy - Ankle/Foot Injury\n",
      "Valentino Livramento - Other\n",
      "--------------------\n",
      "Tottenham Hotspur - 3\n",
      "Richarlison de Andrade - Groin/Hip/Pelvic Injury\n",
      "Pape Sarr - Groin/Hip/Pelvic Injury\n",
      "Lucas Rodrigues Moura da Silva - Calf/Shin/Heel Injury\n",
      "--------------------\n",
      "West Ham United - 5\n",
      "Kurt Zouma - Thigh Injury\n",
      "Maxwel Cornet - Calf/Shin/Heel Injury\n",
      "Gianluca Scamacca - Knee Injury\n",
      "Alphonse Areola - Thigh Injury\n",
      "Jan Thilo Kehrer - Other\n",
      "--------------------\n",
      "Wolverhampton Wanderers - 6\n",
      "Sasa Kalajdzic - Knee Injury\n",
      "Francisco Tavares Oliveira - Knee Injury\n",
      "Boubacar Traore - Groin/Hip/Pelvic Injury\n",
      "Pedro Lomba Neto - Ankle/Foot Injury\n",
      "Hee-Chan Hwang - Thigh Injury\n",
      "Mario Lemina - Other\n",
      "--------------------\n"
     ]
    }
   ],
   "source": [
    "results = []\n",
    "\n",
    "table = soup.find('table', class_='injury-table')\n",
    "teams = table.find_all('tr', class_='heading')\n",
    "\n",
    "for team in teams:\n",
    "    \n",
    "    team_id = team['data-team-id']\n",
    "    \n",
    "    title_team = team.find('div', class_='injury-team').text\n",
    "    \n",
    "    count_players = int(team.find('span', class_='injury-count2-num').text)\n",
    "    \n",
    "    results.append(Team(title_team, count_players, team_id, players=[]))\n",
    "\n",
    "for team in results:\n",
    "    \n",
    "    players = table.find_all('tr', f'player-row team_{team.team_id}')\n",
    "    \n",
    "    for player in players:\n",
    "        player_name = player.find('div', class_='mob-title', text='Player').parent.text[6:] \n",
    "        reason = player.find('div', class_='mob-title', text='Reason').parent.text[6:]\n",
    "        \n",
    "        team.players.append(Player(player_name, reason))\n",
    "        \n",
    "for team in results:\n",
    "    print(f'{team.name} - {team.inj_count}')  \n",
    "    for player in team.players:\n",
    "        print(f'{player.name} - {player.reason}')\n",
    "        \n",
    "    print('--------------------')"
   ]
  },
  {
   "cell_type": "code",
   "execution_count": null,
   "id": "d63fbc2e-2b64-44b0-ba42-4c2cf5feef67",
   "metadata": {},
   "outputs": [],
   "source": []
  },
  {
   "cell_type": "code",
   "execution_count": null,
   "id": "bac95746-d381-49d8-b994-a1ee688c8263",
   "metadata": {},
   "outputs": [],
   "source": []
  },
  {
   "cell_type": "code",
   "execution_count": null,
   "id": "2638ee71-a2b4-4085-9983-a778501b074b",
   "metadata": {},
   "outputs": [],
   "source": []
  }
 ],
 "metadata": {
  "kernelspec": {
   "display_name": "Python 3 (ipykernel)",
   "language": "python",
   "name": "python3"
  },
  "language_info": {
   "codemirror_mode": {
    "name": "ipython",
    "version": 3
   },
   "file_extension": ".py",
   "mimetype": "text/x-python",
   "name": "python",
   "nbconvert_exporter": "python",
   "pygments_lexer": "ipython3",
   "version": "3.11.1"
  }
 },
 "nbformat": 4,
 "nbformat_minor": 5
}
